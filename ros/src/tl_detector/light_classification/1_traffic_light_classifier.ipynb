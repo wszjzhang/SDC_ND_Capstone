{
 "cells": [
  {
   "cell_type": "markdown",
   "metadata": {},
   "source": [
    "## TL classifier "
   ]
  },
  {
   "cell_type": "code",
   "execution_count": 1,
   "metadata": {
    "collapsed": true
   },
   "outputs": [],
   "source": [
    "import numpy as np\n",
    "import tensorflow as tf\n",
    "\n",
    "from PIL import Image"
   ]
  },
  {
   "cell_type": "code",
   "execution_count": 2,
   "metadata": {
    "collapsed": true
   },
   "outputs": [],
   "source": [
    "def load_image_into_numpy_array(image):\n",
    "    (im_width, im_height) = image.size\n",
    "    return np.array(image.getdata()).reshape(\n",
    "        (im_height, im_width, 3)).astype(np.uint8)"
   ]
  },
  {
   "cell_type": "code",
   "execution_count": 3,
   "metadata": {
    "collapsed": true
   },
   "outputs": [],
   "source": [
    "# label map and computation graph path\n",
    "category_index = {1: {'id': 1, 'name': 'Green'}, \n",
    "                  2: {'id': 2, 'name': 'Red'}, \n",
    "                  3: {'id': 3, 'name': 'Yellow'}, \n",
    "                  4: {'id': 4, 'name': 'off'}}\n",
    "\n",
    "faster_rcnn_real_model = './frozen_inference_graph.pb'\n",
    "class TLClassifier(object):\n",
    "    def __init__(self, model_graph_path=faster_rcnn_real_model):\n",
    "        #TODO load classifier\n",
    "        self.detection_graph = tf.Graph()\n",
    "        with self.detection_graph.as_default():\n",
    "            od_graph_def = tf.GraphDef()\n",
    "            \n",
    "            # read serialized graph and load it into the detection graph\n",
    "            with tf.gfile.GFile(model_graph_path, 'rb') as fid:    \n",
    "                serialized_graph = fid.read()\n",
    "                od_graph_def.ParseFromString(serialized_graph)\n",
    "                tf.import_graph_def(od_graph_def, name='')\n",
    "\n",
    "            # Define input and output Tensors for detection_graph\n",
    "            self.image_tensor = self.detection_graph.get_tensor_by_name('image_tensor:0')\n",
    "\n",
    "            # class labels with the corresponding confidence level.\n",
    "            self.scores_tensor = self.detection_graph.get_tensor_by_name('detection_scores:0')\n",
    "            self.classes_tensor = self.detection_graph.get_tensor_by_name('detection_classes:0')\n",
    "        \n",
    "        # start tf session with the detection graph\n",
    "        self.sess = tf.Session(graph=self.detection_graph)\n",
    "        \n",
    "    def get_classification(self, image):\n",
    "        \"\"\"Determines the color of the traffic light in the image\n",
    "\n",
    "        Args:\n",
    "            image (cv::Mat): image containing the traffic light\n",
    "\n",
    "        Returns:\n",
    "            int: ID of traffic light color (specified in styx_msgs/TrafficLight)\n",
    "\n",
    "        \"\"\"\n",
    "        #TODO implement light color prediction\n",
    "        image_np = load_image_into_numpy_array(image)\n",
    "        # Expand dimensions since the model expects images to have shape: [1, None, None, 3]\n",
    "        image_np_expanded = np.expand_dims(image_np, axis=0)\n",
    "              \n",
    "        # Actual detection.\n",
    "        (scores, classes) = self.sess.run(\n",
    "              [self.scores_tensor, self.classes_tensor],\n",
    "              feed_dict={self.image_tensor: image_np_expanded})\n",
    "\n",
    "        scores = np.squeeze(scores)\n",
    "        classes = np.squeeze(classes).astype(np.int32)\n",
    "\n",
    "        return category_index[classes[np.argmax(scores)]]['name']\n",
    "        "
   ]
  },
  {
   "cell_type": "markdown",
   "metadata": {},
   "source": [
    "## classification examples"
   ]
  },
  {
   "cell_type": "code",
   "execution_count": 4,
   "metadata": {
    "collapsed": true
   },
   "outputs": [],
   "source": [
    "import time\n",
    "import os\n",
    "\n",
    "from glob import glob"
   ]
  },
  {
   "cell_type": "code",
   "execution_count": 5,
   "metadata": {},
   "outputs": [
    {
     "name": "stdout",
     "output_type": "stream",
     "text": [
      "./test_imgs\\*.jpg\n",
      "Length of test images: 10\n"
     ]
    }
   ],
   "source": [
    "PATH_TO_TEST_IMAGES_DIR = './test_imgs'\n",
    "\n",
    "print(os.path.join(PATH_TO_TEST_IMAGES_DIR, '*.jpg'))\n",
    "TEST_IMAGE_PATHS = glob(os.path.join(PATH_TO_TEST_IMAGES_DIR, '*.jpg'))\n",
    "print(\"Length of test images:\", len(TEST_IMAGE_PATHS))"
   ]
  },
  {
   "cell_type": "code",
   "execution_count": 6,
   "metadata": {
    "collapsed": true
   },
   "outputs": [],
   "source": [
    "tl_detector = TLClassifier()"
   ]
  },
  {
   "cell_type": "code",
   "execution_count": 7,
   "metadata": {},
   "outputs": [
    {
     "name": "stdout",
     "output_type": "stream",
     "text": [
      "Time in milliseconds 6733.838081359863 \n",
      "\n",
      "Red\n"
     ]
    }
   ],
   "source": [
    "image = Image.open(TEST_IMAGE_PATHS[1])\n",
    "time0 = time.time()\n",
    "traffic_light = tl_detector.get_classification(image)\n",
    "time1 = time.time()\n",
    "print(\"Time in milliseconds\", (time1 - time0) * 1000, \"\\n\") \n",
    "print(traffic_light)"
   ]
  },
  {
   "cell_type": "code",
   "execution_count": 8,
   "metadata": {},
   "outputs": [
    {
     "name": "stdout",
     "output_type": "stream",
     "text": [
      "Time in milliseconds 1184.0391159057617 \n",
      "\n",
      "Green\n"
     ]
    }
   ],
   "source": [
    "image = Image.open(TEST_IMAGE_PATHS[2])\n",
    "time0 = time.time()\n",
    "traffic_light = tl_detector.get_classification(image)\n",
    "time1 = time.time()\n",
    "print(\"Time in milliseconds\", (time1 - time0) * 1000, \"\\n\") \n",
    "print(traffic_light)"
   ]
  },
  {
   "cell_type": "code",
   "execution_count": 9,
   "metadata": {},
   "outputs": [
    {
     "name": "stdout",
     "output_type": "stream",
     "text": [
      "Time in milliseconds 2368.5338497161865 \n",
      "\n",
      "Red\n"
     ]
    }
   ],
   "source": [
    "image = Image.open(TEST_IMAGE_PATHS[3])\n",
    "time0 = time.time()\n",
    "traffic_light = tl_detector.get_classification(image)\n",
    "time1 = time.time()\n",
    "print(\"Time in milliseconds\", (time1 - time0) * 1000, \"\\n\") \n",
    "print(traffic_light)"
   ]
  },
  {
   "cell_type": "code",
   "execution_count": 10,
   "metadata": {},
   "outputs": [
    {
     "name": "stdout",
     "output_type": "stream",
     "text": [
      "Time in milliseconds 1932.8627586364746 \n",
      "\n",
      "Green\n"
     ]
    }
   ],
   "source": [
    "image = Image.open(TEST_IMAGE_PATHS[4])\n",
    "time0 = time.time()\n",
    "traffic_light = tl_detector.get_classification(image)\n",
    "time1 = time.time()\n",
    "print(\"Time in milliseconds\", (time1 - time0) * 1000, \"\\n\") \n",
    "print(traffic_light)"
   ]
  },
  {
   "cell_type": "code",
   "execution_count": null,
   "metadata": {
    "collapsed": true
   },
   "outputs": [],
   "source": []
  }
 ],
 "metadata": {
  "hide_input": false,
  "kernelspec": {
   "display_name": "Python 3",
   "language": "python",
   "name": "python3"
  },
  "language_info": {
   "codemirror_mode": {
    "name": "ipython",
    "version": 3
   },
   "file_extension": ".py",
   "mimetype": "text/x-python",
   "name": "python",
   "nbconvert_exporter": "python",
   "pygments_lexer": "ipython3",
   "version": "3.5.2"
  },
  "toc": {
   "nav_menu": {},
   "number_sections": true,
   "sideBar": true,
   "skip_h1_title": false,
   "toc_cell": false,
   "toc_position": {},
   "toc_section_display": "block",
   "toc_window_display": false
  },
  "widgets": {
   "state": {},
   "version": "1.1.2"
  }
 },
 "nbformat": 4,
 "nbformat_minor": 2
}
